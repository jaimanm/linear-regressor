{
 "cells": [
  {
   "cell_type": "code",
   "execution_count": 111,
   "metadata": {},
   "outputs": [],
   "source": [
    "# note: datahub.io has good datasets"
   ]
  },
  {
   "cell_type": "code",
   "execution_count": 112,
   "metadata": {},
   "outputs": [],
   "source": [
    "# imports\n",
    "import numpy as np\n",
    "import pandas as pd\n",
    "import matplotlib.pyplot as plt\n",
    "from sklearn.model_selection import train_test_split\n",
    "from sklearn.preprocessing import StandardScaler"
   ]
  },
  {
   "cell_type": "code",
   "execution_count": 113,
   "metadata": {},
   "outputs": [],
   "source": [
    "# TO SWITCH DATASETS:\n",
    "file = 'houses.csv'\n",
    "to_predict = 'price'"
   ]
  },
  {
   "cell_type": "code",
   "execution_count": 114,
   "metadata": {},
   "outputs": [
    {
     "name": "stdout",
     "output_type": "stream",
     "text": [
      "(100, 5)\n"
     ]
    }
   ],
   "source": [
    "# load the data\n",
    "df = pd.read_csv(f'data/{file}')\n",
    "print(df.shape)\n",
    "\n",
    "# drop the rows with missing values\n",
    "df = df.fillna(df.mean(numeric_only=True))\n",
    "\n",
    "# for cars.csv:\n",
    "target = df[[to_predict]]\n",
    "predictors = df.drop(to_predict, axis=1).select_dtypes(exclude=object)"
   ]
  },
  {
   "cell_type": "code",
   "execution_count": 115,
   "metadata": {},
   "outputs": [],
   "source": [
    "# split the data\n",
    "X_train, X_test, y_train, y_test = train_test_split(predictors, target, train_size=0.7, test_size=0.3)"
   ]
  },
  {
   "cell_type": "code",
   "execution_count": 116,
   "metadata": {},
   "outputs": [],
   "source": [
    "# scale/normalize the data\n",
    "scaler = StandardScaler()\n",
    "X_train = scaler.fit_transform(X_train)\n",
    "X_test = scaler.transform(X_test)"
   ]
  },
  {
   "cell_type": "code",
   "execution_count": 117,
   "metadata": {},
   "outputs": [],
   "source": [
    "# convert to numpy arrays\n",
    "y_train = y_train.to_numpy()\n",
    "y_test = y_test.to_numpy()"
   ]
  },
  {
   "cell_type": "code",
   "execution_count": 118,
   "metadata": {},
   "outputs": [
    {
     "name": "stdout",
     "output_type": "stream",
     "text": [
      "X_train shape: (70, 4)\n",
      "X_test.shape: (30, 4)\n",
      "y_train.shape: (70, 1)\n",
      "y_test.shape: (30, 1)\n"
     ]
    }
   ],
   "source": [
    "print(f'X_train shape: {X_train.shape}')\n",
    "print(f'X_test.shape: {X_test.shape}')\n",
    "print(f'y_train.shape: {y_train.shape}')\n",
    "print(f'y_test.shape: {y_test.shape}')"
   ]
  },
  {
   "cell_type": "code",
   "execution_count": 119,
   "metadata": {},
   "outputs": [
    {
     "name": "stdout",
     "output_type": "stream",
     "text": [
      "w_init shape: (4, 1), b_init type: <class 'float'>\n"
     ]
    }
   ],
   "source": [
    "# initial parameters\n",
    "m, n = X_train.shape\n",
    "w_init = np.zeros((n, 1))\n",
    "b_init = 0.0\n",
    "\n",
    "print(f\"w_init shape: {w_init.shape}, b_init type: {type(b_init)}\")\n"
   ]
  },
  {
   "cell_type": "markdown",
   "metadata": {},
   "source": [
    "The model's prediction with multiple variables is given by the linear model:\n",
    "$$ f_{\\mathbf{w},b}(\\mathbf{x}) =  w_0x_0 + w_1x_1 +... + w_{n-1}x_{n-1} + b \\tag{1}$$\n",
    "or in vector notation:\n",
    "$$ f_{\\mathbf{w},b}(\\mathbf{x}) = \\mathbf{w} \\cdot \\mathbf{x} + b  \\tag{2} $$ \n",
    "where $\\cdot$ is a vector `dot product`"
   ]
  },
  {
   "cell_type": "code",
   "execution_count": 120,
   "metadata": {},
   "outputs": [],
   "source": [
    "def predict(X, w, b):\n",
    "  '''\n",
    "  Predict values using weights and inputs\n",
    "  \n",
    "  Args:\n",
    "  X (ndarray (m,n)) : examples with multiple features\n",
    "  w (ndarray (n,))  : model parameters\n",
    "  b (scalar)        : model parameter\n",
    "\n",
    "  Returns:\n",
    "  p (scalar)        : prediction \n",
    "  '''\n",
    "\n",
    "  p = np.dot(X, w) + b\n",
    "  p = p.reshape(-1,1)\n",
    "\n",
    "  return p"
   ]
  },
  {
   "cell_type": "code",
   "execution_count": 121,
   "metadata": {},
   "outputs": [
    {
     "data": {
      "text/plain": [
       "(70, 1)"
      ]
     },
     "execution_count": 121,
     "metadata": {},
     "output_type": "execute_result"
    }
   ],
   "source": [
    "predict(X_train, w_init, b_init).shape"
   ]
  },
  {
   "cell_type": "markdown",
   "metadata": {},
   "source": [
    "The equation for the cost function with multiple variables $J(\\mathbf{w},b)$ is:\n",
    "$$J(\\mathbf{w},b) = \\frac{1}{2m} \\sum\\limits_{i = 0}^{m-1} (f_{\\mathbf{w},b}(\\mathbf{x}^{(i)}) - y^{(i)})^2 \\tag{3}$$ \n",
    "where:\n",
    "$$ f_{\\mathbf{w},b}(\\mathbf{x}^{(i)}) = \\mathbf{w} \\cdot \\mathbf{x}^{(i)} + b  \\tag{4} $$ "
   ]
  },
  {
   "cell_type": "code",
   "execution_count": 122,
   "metadata": {},
   "outputs": [],
   "source": [
    "def compute_cost(X, y, w, b):\n",
    "  '''\n",
    "  Computes cost for a model using current parameters\n",
    "  \n",
    "  Args:\n",
    "  X (ndarray (m,n)) : data, m examples with n features\n",
    "  y (ndarray (m,))  : target values\n",
    "  w (ndarray (n,))  : model parameters\n",
    "  b (scalar)        : model parameter\n",
    "  \n",
    "  Returns:\n",
    "  cost (scalar)     : cost\n",
    "  '''\n",
    "\n",
    "  m,_ = X.shape\n",
    "  pred = predict(X, w, b)\n",
    "  cost = ((pred - y)**2).sum()\n",
    "  cost = cost / (2 * m)\n",
    "\n",
    "  return cost"
   ]
  },
  {
   "cell_type": "code",
   "execution_count": 123,
   "metadata": {},
   "outputs": [
    {
     "data": {
      "text/plain": [
       "71283.29983905713"
      ]
     },
     "execution_count": 123,
     "metadata": {},
     "output_type": "execute_result"
    }
   ],
   "source": [
    "compute_cost(X_train, y_train, w_init, b_init)"
   ]
  },
  {
   "cell_type": "markdown",
   "metadata": {},
   "source": [
    "Gradient descent for multiple variables:\n",
    "\n",
    "$$\\begin{align*} \\text{repeat}&\\text{ until convergence:} \\; \\lbrace \\newline\\;\n",
    "& w_j = w_j -  \\alpha \\frac{\\partial J(\\mathbf{w},b)}{\\partial w_j} \\tag{5}  \\; & \\text{for j = 0..n-1}\\newline\n",
    "&b\\ \\ = b -  \\alpha \\frac{\\partial J(\\mathbf{w},b)}{\\partial b}  \\newline \\rbrace\n",
    "\\end{align*}$$\n",
    "\n",
    "where, n is the number of features, parameters $w_j$,  $b$, are updated simultaneously and where  \n",
    "\n",
    "$$\n",
    "\\begin{align}\n",
    "\\frac{\\partial J(\\mathbf{w},b)}{\\partial w_j}  &= \\frac{1}{m} \\sum\\limits_{i = 0}^{m-1} (f_{\\mathbf{w},b}(\\mathbf{x}^{(i)}) - y^{(i)})x_{j}^{(i)} \\tag{6}  \\\\\n",
    "\\frac{\\partial J(\\mathbf{w},b)}{\\partial b}  &= \\frac{1}{m} \\sum\\limits_{i = 0}^{m-1} (f_{\\mathbf{w},b}(\\mathbf{x}^{(i)}) - y^{(i)}) \\tag{7}\n",
    "\\end{align}\n",
    "$$\n",
    "* m is the number of training examples in the data set\n",
    "\n",
    "    \n",
    "*  $f_{\\mathbf{w},b}(\\mathbf{x}^{(i)})$ is the model's prediction, while $y^{(i)}$ is the target value"
   ]
  },
  {
   "cell_type": "code",
   "execution_count": 124,
   "metadata": {},
   "outputs": [],
   "source": [
    "def compute_gradient(X, y, w, b):\n",
    "  '''\n",
    "  Computes the gradient(slope of cost function)\n",
    "\n",
    "  Args:\n",
    "  X (ndarray (m,n))    : data, m examples with n features\n",
    "  y (ndarray (m,))     : target values\n",
    "  w (ndarray (n,))     : model parameters\n",
    "  b (scalar)           : model parameter\n",
    "\n",
    "  Returns:\n",
    "  dj_dw (ndarray (n,)) : gradient of the cost w.r.t. the parameters w\n",
    "  dj_db (scalar)       : gradient of the cost w.r.t. the parameter b\n",
    "  '''\n",
    "\n",
    "# non-vectorized implementation\n",
    "#   m,n = X.shape           #(number of examples, number of features)\n",
    "#   dj_dw = np.zeros(n,)\n",
    "#   dj_db = 0.\n",
    "\n",
    "#   for i in range(m):                             \n",
    "#       err = predict(X, w, b)[i] - y[i]   \n",
    "#       for j in range(n):                         \n",
    "#           dj_dw[j] = dj_dw[j] + err * X[i, j]    \n",
    "#       dj_db = dj_db + err                        \n",
    "#   dj_dw = dj_dw / m                                \n",
    "#   dj_db = dj_db / m\n",
    "\n",
    "  # vectorized implementation\n",
    "  m, _ = X.shape\n",
    "  err = predict(X, w, b) - y\n",
    "  dj_dw = np.dot(X.T, err) / m\n",
    "  dj_db = err.sum() / m\n",
    "      \n",
    "  return dj_db, dj_dw"
   ]
  },
  {
   "cell_type": "code",
   "execution_count": 125,
   "metadata": {},
   "outputs": [
    {
     "name": "stdout",
     "output_type": "stream",
     "text": [
      "dj_db at initial w,b: -362.96105714285716\n",
      "dj_dw at initial w,b: \n",
      " [[-88.66397688]\n",
      " [-24.08996158]\n",
      " [-31.50034572]\n",
      " [ 56.14856531]]\n",
      "dj_dw shape: (4, 1)\n"
     ]
    }
   ],
   "source": [
    "# compute and display gradient\n",
    "tmp_dj_db, tmp_dj_dw = compute_gradient(X_train, y_train, w_init, b_init)\n",
    "print(f'dj_db at initial w,b: {tmp_dj_db}')\n",
    "print(f'dj_dw at initial w,b: \\n {tmp_dj_dw}')\n",
    "print(f'dj_dw shape: {tmp_dj_dw.shape}')"
   ]
  },
  {
   "cell_type": "code",
   "execution_count": 126,
   "metadata": {},
   "outputs": [],
   "source": [
    "def gradient_descent(X, y, w, b, alpha, num_iters):\n",
    "  '''\n",
    "  Performs gradient descent to minimize the cost function\n",
    "\n",
    "  Args:\n",
    "  X (ndarray (m,n))    : data, m examples with n features\n",
    "  y (ndarray (m,))     : target values\n",
    "  w (ndarray (n,))     : model parameters\n",
    "  b (scalar)           : model parameter\n",
    "  alpha (scalar)       : learning rate\n",
    "  num_iters (int)      : number of iterations\n",
    "\n",
    "  Returns:\n",
    "  w (ndarray (n,))     : model parameters\n",
    "  b (scalar)           : model parameter\n",
    "  '''\n",
    "\n",
    "  # store the cost for each iteration\n",
    "  costs = []\n",
    "  for i in range(num_iters):\n",
    "    dj_db, dj_dw = compute_gradient(X, y, w, b)\n",
    "    w = w - alpha * dj_dw\n",
    "    b = b - alpha * dj_db\n",
    "\n",
    "    # compute the cost\n",
    "    # prevent resource exhaustion\n",
    "    if i<100000:\n",
    "      costs.append(compute_cost(X, y, w, b))\n",
    "\n",
    "    # print cost 10 times\n",
    "    if i % (num_iters//10) == 0:\n",
    "      print(f'Cost at iteration {i}: {costs[-1]}')\n",
    "\n",
    "  print(f'Cost at iteration {num_iters}: {costs[-1]}')\n",
    "\n",
    "  return w, b, costs"
   ]
  },
  {
   "cell_type": "code",
   "execution_count": 127,
   "metadata": {},
   "outputs": [
    {
     "name": "stdout",
     "output_type": "stream",
     "text": [
      "Cost at iteration 0: 34884.69005618416\n",
      "Cost at iteration 10: 383.16091582716973\n",
      "Cost at iteration 20: 218.761951054286\n",
      "Cost at iteration 30: 205.88420774237986\n",
      "Cost at iteration 40: 204.68716302190109\n",
      "Cost at iteration 50: 204.57567066477975\n",
      "Cost at iteration 60: 204.56528499555594\n",
      "Cost at iteration 70: 204.5643175250832\n",
      "Cost at iteration 80: 204.56422740017067\n",
      "Cost at iteration 90: 204.56421900454438\n",
      "Cost at iteration 100: 204.56421824396742\n"
     ]
    }
   ],
   "source": [
    "# initialize parameters\n",
    "initial_w = np.zeros_like(w_init)\n",
    "initial_b = 0.0\n",
    "\n",
    "# initialize hyperparameters\n",
    "alpha = 3.0e-1\n",
    "num_iters = 100\n",
    "\n",
    "# run gradient descent\n",
    "w_final, b_final, J_hist = gradient_descent(X_train, y_train, initial_w, initial_b, alpha, num_iters)"
   ]
  },
  {
   "cell_type": "code",
   "execution_count": 133,
   "metadata": {},
   "outputs": [
    {
     "name": "stdout",
     "output_type": "stream",
     "text": [
      "w, b found by gradient descent: [[110.52672178]\n",
      " [-21.29052513]\n",
      " [-31.76893214]\n",
      " [-37.94566719]], 362.96\n",
      "prediction: 391.3, target value: 412\n",
      "prediction: 289.1, target value: 282\n",
      "prediction: 410.3, target value: 430\n",
      "prediction: 522, target value: 560\n",
      "prediction: 471.1, target value: 460\n",
      "prediction: 284.9, target value: 298\n",
      "prediction: 235.3, target value: 216\n",
      "prediction: 465.5, target value: 464\n",
      "prediction: 407.4, target value: 390\n",
      "prediction: 336.3, target value: 332\n"
     ]
    }
   ],
   "source": [
    "print(f'w, b found by gradient descent: {w_final}, {b_final:0.2f}')\n",
    "\n",
    "\n",
    "m,_ = X_train.shape\n",
    "for i in range(0,m,m//10):\n",
    "    print(\n",
    "        f'prediction: %.4g, target value: %.4g' % (predict(X_train, w_final, b_final)[i], y_train[i]))\n"
   ]
  },
  {
   "cell_type": "code",
   "execution_count": 129,
   "metadata": {},
   "outputs": [
    {
     "data": {
      "image/png": "[encoded data removed]",
      "text/plain": [
       "<Figure size 1200x400 with 2 Axes>"
      ]
     },
     "metadata": {},
     "output_type": "display_data"
    }
   ],
   "source": [
    "# plot cost versus iteration  \n",
    "fig, (ax1, ax2) = plt.subplots(1, 2, constrained_layout=True, figsize=(12, 4))\n",
    "ax1.plot(J_hist)\n",
    "ax2.plot(np.arange(len(J_hist[:200])), J_hist[:200])\n",
    "ax1.set_title(\"Cost vs. iteration\");  ax2.set_title(\"Cost vs. iteration (head)\")\n",
    "ax1.set_ylabel('Cost')             ;  ax2.set_ylabel('Cost') \n",
    "ax1.set_xlabel('iteration step')   ;  ax2.set_xlabel('iteration step') \n",
    "plt.show()"
   ]
  },
  {
   "cell_type": "code",
   "execution_count": 135,
   "metadata": {},
   "outputs": [
    {
     "name": "stdout",
     "output_type": "stream",
     "text": [
      "Accuracy: 0.17\n"
     ]
    }
   ],
   "source": [
    "# check accuracy against test set\n",
    "y_pred = predict(X_test, w_final, b_final)\n",
    "# accuracy threshold = $5,000\n",
    "print(f'Accuracy: {np.mean(abs(y_pred - y_test) < 5):0.2f}')"
   ]
  },
  {
   "cell_type": "code",
   "execution_count": null,
   "metadata": {},
   "outputs": [],
   "source": []
  }
 ],
 "metadata": {
  "kernelspec": {
   "display_name": "Python 3.9.15 ('machine-learning')",
   "language": "python",
   "name": "python3"
  },
  "language_info": {
   "codemirror_mode": {
    "name": "ipython",
    "version": 3
   },
   "file_extension": ".py",
   "mimetype": "text/x-python",
   "name": "python",
   "nbconvert_exporter": "python",
   "pygments_lexer": "ipython3",
   "version": "3.9.15"
  },
  "orig_nbformat": 4,
  "vscode": {
   "interpreter": {
    "hash": "e969ff76d6b9e8113bfdb1171256ab902600575d174c7cffbcfee84440272c3b"
   }
  }
 },
 "nbformat": 4,
 "nbformat_minor": 2
}
