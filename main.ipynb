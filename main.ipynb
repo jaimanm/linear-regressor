{
 "cells": [
  {
   "cell_type": "code",
   "execution_count": 1,
   "metadata": {},
   "outputs": [],
   "source": [
    "# note: datahub.io has good datasets"
   ]
  },
  {
   "cell_type": "code",
   "execution_count": 2,
   "metadata": {},
   "outputs": [],
   "source": [
    "# imports\n",
    "import numpy as np\n",
    "import pandas as pd\n",
    "import matplotlib.pyplot as plt\n",
    "import copy, math\n",
    "from sklearn.model_selection import train_test_split\n",
    "from sklearn.preprocessing import StandardScaler"
   ]
  },
  {
   "cell_type": "code",
   "execution_count": 3,
   "metadata": {},
   "outputs": [
    {
     "name": "stdout",
     "output_type": "stream",
     "text": [
      "(11914, 16)\n"
     ]
    }
   ],
   "source": [
    "# load the data\n",
    "df = pd.read_csv('data/cars.csv')\n",
    "print(df.shape)\n",
    "\n",
    "# drop the rows with missing values\n",
    "df = df.fillna(df.mean(numeric_only=True))\n",
    "\n",
    "# for cars.csv:\n",
    "target = df[['MSRP']]\n",
    "predictors = df.drop('MSRP', axis=1).select_dtypes(exclude=object)"
   ]
  },
  {
   "cell_type": "code",
   "execution_count": 4,
   "metadata": {},
   "outputs": [],
   "source": [
    "# split the data\n",
    "X_train, X_test, y_train, y_test = train_test_split(predictors, target, train_size=0.7, test_size=0.3)"
   ]
  },
  {
   "cell_type": "code",
   "execution_count": 5,
   "metadata": {},
   "outputs": [],
   "source": [
    "# scale/normalize the data\n",
    "scaler = StandardScaler()\n",
    "X_train = scaler.fit_transform(X_train)\n",
    "X_test = scaler.transform(X_test)"
   ]
  },
  {
   "cell_type": "code",
   "execution_count": 6,
   "metadata": {},
   "outputs": [],
   "source": [
    "# convert to numpy arrays\n",
    "y_train = y_train.to_numpy()\n",
    "y_test = y_test.to_numpy()"
   ]
  },
  {
   "cell_type": "code",
   "execution_count": 7,
   "metadata": {},
   "outputs": [
    {
     "name": "stdout",
     "output_type": "stream",
     "text": [
      "X_train shape: (8339, 7)\n",
      "X_test.shape: (3575, 7)\n",
      "y_train.shape: (8339, 1)\n",
      "y_test.shape: (3575, 1)\n"
     ]
    }
   ],
   "source": [
    "print(f'X_train shape: {X_train.shape}')\n",
    "print(f'X_test.shape: {X_test.shape}')\n",
    "print(f'y_train.shape: {y_train.shape}')\n",
    "print(f'y_test.shape: {y_test.shape}')"
   ]
  },
  {
   "cell_type": "code",
   "execution_count": 8,
   "metadata": {},
   "outputs": [
    {
     "name": "stdout",
     "output_type": "stream",
     "text": [
      "w_init shape: (7,), b_init type: <class 'float'>\n"
     ]
    }
   ],
   "source": [
    "# initial parameters\n",
    "m, n = X_train.shape\n",
    "w_init = np.zeros(n)\n",
    "b_init = 0.0\n",
    "\n",
    "print(f\"w_init shape: {w_init.shape}, b_init type: {type(b_init)}\")\n"
   ]
  },
  {
   "cell_type": "markdown",
   "metadata": {},
   "source": [
    "The model's prediction with multiple variables is given by the linear model:\n",
    "$$ f_{\\mathbf{w},b}(\\mathbf{x}) =  w_0x_0 + w_1x_1 +... + w_{n-1}x_{n-1} + b \\tag{1}$$\n",
    "or in vector notation:\n",
    "$$ f_{\\mathbf{w},b}(\\mathbf{x}) = \\mathbf{w} \\cdot \\mathbf{x} + b  \\tag{2} $$ \n",
    "where $\\cdot$ is a vector `dot product`"
   ]
  },
  {
   "cell_type": "code",
   "execution_count": 9,
   "metadata": {},
   "outputs": [],
   "source": [
    "def predict(X, w, b):\n",
    "  '''\n",
    "  Predict values using weights and inputs\n",
    "  \n",
    "  Args:\n",
    "  X (ndarray (m,n)) : examples with multiple features\n",
    "  w (ndarray (n,))  : model parameters\n",
    "  b (scalar)        : model parameter\n",
    "\n",
    "  Returns:\n",
    "  p (scalar)        : prediction \n",
    "  '''\n",
    "\n",
    "  p = np.dot(X, w) + b\n",
    "  p = p.reshape(-1,1)\n",
    "\n",
    "  return p"
   ]
  },
  {
   "cell_type": "code",
   "execution_count": 10,
   "metadata": {},
   "outputs": [
    {
     "data": {
      "text/plain": [
       "(8339, 1)"
      ]
     },
     "execution_count": 10,
     "metadata": {},
     "output_type": "execute_result"
    }
   ],
   "source": [
    "predict(X_train, w_init, b_init).shape"
   ]
  },
  {
   "cell_type": "markdown",
   "metadata": {},
   "source": [
    "The equation for the cost function with multiple variables $J(\\mathbf{w},b)$ is:\n",
    "$$J(\\mathbf{w},b) = \\frac{1}{2m} \\sum\\limits_{i = 0}^{m-1} (f_{\\mathbf{w},b}(\\mathbf{x}^{(i)}) - y^{(i)})^2 \\tag{3}$$ \n",
    "where:\n",
    "$$ f_{\\mathbf{w},b}(\\mathbf{x}^{(i)}) = \\mathbf{w} \\cdot \\mathbf{x}^{(i)} + b  \\tag{4} $$ "
   ]
  },
  {
   "cell_type": "code",
   "execution_count": 11,
   "metadata": {},
   "outputs": [],
   "source": [
    "def compute_cost(X, y, w, b):\n",
    "  '''\n",
    "  Computes cost for a model using current parameters\n",
    "  \n",
    "  Args:\n",
    "  X (ndarray (m,n)) : data, m examples with n features\n",
    "  y (ndarray (m,))  : target values\n",
    "  w (ndarray (n,))  : model parameters\n",
    "  b (scalar)        : model parameter\n",
    "  \n",
    "  Returns:\n",
    "  cost (scalar)     : cost\n",
    "  '''\n",
    "\n",
    "  m,_ = X.shape\n",
    "  pred = predict(X, w, b)\n",
    "  cost = ((pred - y)**2).sum()\n",
    "  cost = cost / (2 * m)\n",
    "\n",
    "  return cost"
   ]
  },
  {
   "cell_type": "code",
   "execution_count": 12,
   "metadata": {},
   "outputs": [
    {
     "data": {
      "text/plain": [
       "2458356202.0613384"
      ]
     },
     "execution_count": 12,
     "metadata": {},
     "output_type": "execute_result"
    }
   ],
   "source": [
    "compute_cost(X_train, y_train, w_init, b_init)"
   ]
  },
  {
   "cell_type": "markdown",
   "metadata": {},
   "source": [
    "Gradient descent for multiple variables:\n",
    "\n",
    "$$\\begin{align*} \\text{repeat}&\\text{ until convergence:} \\; \\lbrace \\newline\\;\n",
    "& w_j = w_j -  \\alpha \\frac{\\partial J(\\mathbf{w},b)}{\\partial w_j} \\tag{5}  \\; & \\text{for j = 0..n-1}\\newline\n",
    "&b\\ \\ = b -  \\alpha \\frac{\\partial J(\\mathbf{w},b)}{\\partial b}  \\newline \\rbrace\n",
    "\\end{align*}$$\n",
    "\n",
    "where, n is the number of features, parameters $w_j$,  $b$, are updated simultaneously and where  \n",
    "\n",
    "$$\n",
    "\\begin{align}\n",
    "\\frac{\\partial J(\\mathbf{w},b)}{\\partial w_j}  &= \\frac{1}{m} \\sum\\limits_{i = 0}^{m-1} (f_{\\mathbf{w},b}(\\mathbf{x}^{(i)}) - y^{(i)})x_{j}^{(i)} \\tag{6}  \\\\\n",
    "\\frac{\\partial J(\\mathbf{w},b)}{\\partial b}  &= \\frac{1}{m} \\sum\\limits_{i = 0}^{m-1} (f_{\\mathbf{w},b}(\\mathbf{x}^{(i)}) - y^{(i)}) \\tag{7}\n",
    "\\end{align}\n",
    "$$\n",
    "* m is the number of training examples in the data set\n",
    "\n",
    "    \n",
    "*  $f_{\\mathbf{w},b}(\\mathbf{x}^{(i)})$ is the model's prediction, while $y^{(i)}$ is the target value"
   ]
  },
  {
   "cell_type": "code",
   "execution_count": 29,
   "metadata": {},
   "outputs": [],
   "source": [
    "def compute_gradient(X, y, w, b):\n",
    "  '''\n",
    "  Computes the gradient(slope of cost function)\n",
    "\n",
    "  Args:\n",
    "  X (ndarray (m,n))    : data, m examples with n features\n",
    "  y (ndarray (m,))     : target values\n",
    "  w (ndarray (n,))     : model parameters\n",
    "  b (scalar)           : model parameter\n",
    "\n",
    "  Returns:\n",
    "  dj_dw (ndarray (n,)) : gradient of the cost w.r.t. the parameters w\n",
    "  dj_db (scalar)       : gradient of the cost w.r.t. the parameter b\n",
    "  '''\n",
    "\n",
    "# non-vectorized implementation\n",
    "#   m,n = X.shape           #(number of examples, number of features)\n",
    "#   dj_dw = np.zeros(n,)\n",
    "#   dj_db = 0.\n",
    "\n",
    "#   for i in range(m):                             \n",
    "#       err = predict(X, w, b)[i] - y[i]   \n",
    "#       for j in range(n):                         \n",
    "#           dj_dw[j] = dj_dw[j] + err * X[i, j]    \n",
    "#       dj_db = dj_db + err                        \n",
    "#   dj_dw = dj_dw / m                                \n",
    "#   dj_db = dj_db / m\n",
    "\n",
    "  # vectorized implementation\n",
    "  m, _ = X.shape\n",
    "  err = predict(X, w, b) - y\n",
    "  dj_dw = np.dot(X.T, err) / m\n",
    "  dj_db = err.sum() / m\n",
    "      \n",
    "  return dj_db, dj_dw"
   ]
  },
  {
   "cell_type": "code",
   "execution_count": 30,
   "metadata": {},
   "outputs": [
    {
     "name": "stdout",
     "output_type": "stream",
     "text": [
      "dj_db at initial w,b: -40503.713514809926\n",
      "dj_dw at initial w,b: \n",
      " [[-13693.54829607]\n",
      " [-38633.87824088]\n",
      " [-31457.72590741]\n",
      " [  7260.09259695]\n",
      " [ 10599.45698611]\n",
      " [  9856.38637625]\n",
      " [  3100.4263704 ]]\n",
      "dj_dw shape: (7, 1)\n"
     ]
    }
   ],
   "source": [
    "# compute and display gradient\n",
    "tmp_dj_db, tmp_dj_dw = compute_gradient(X_train, y_train, w_init, b_init)\n",
    "print(f'dj_db at initial w,b: {tmp_dj_db}')\n",
    "print(f'dj_dw at initial w,b: \\n {tmp_dj_dw}')\n",
    "print(f'dj_dw shape: {tmp_dj_dw.shape}')"
   ]
  },
  {
   "cell_type": "code",
   "execution_count": 43,
   "metadata": {},
   "outputs": [
    {
     "name": "stdout",
     "output_type": "stream",
     "text": [
      "[[-0.00684677]\n",
      " [-0.01931694]\n",
      " [-0.01572886]\n",
      " [ 0.00363005]\n",
      " [ 0.00529973]\n",
      " [ 0.00492819]\n",
      " [ 0.00155021]]\n"
     ]
    }
   ],
   "source": [
    "print(tmp_dj_dw * 5.0e-7)"
   ]
  },
  {
   "cell_type": "code",
   "execution_count": 40,
   "metadata": {},
   "outputs": [],
   "source": [
    "def gradient_descent(X, y, w, b, alpha, num_iters):\n",
    "  '''\n",
    "  Performs gradient descent to minimize the cost function\n",
    "\n",
    "  Args:\n",
    "  X (ndarray (m,n))    : data, m examples with n features\n",
    "  y (ndarray (m,))     : target values\n",
    "  w (ndarray (n,))     : model parameters\n",
    "  b (scalar)           : model parameter\n",
    "  alpha (scalar)       : learning rate\n",
    "  num_iters (int)      : number of iterations\n",
    "\n",
    "  Returns:\n",
    "  w (ndarray (n,))     : model parameters\n",
    "  b (scalar)           : model parameter\n",
    "  '''\n",
    "\n",
    "  # store the cost for each iteration\n",
    "  costs = []\n",
    "  print(predict(X, w, b))\n",
    "  print(y.shape)\n",
    "  \n",
    "  for i in range(num_iters):\n",
    "    dj_dw, dj_db = compute_gradient(X, y, w, b)\n",
    "    w = w - alpha * dj_dw\n",
    "    b = b - alpha * dj_db\n",
    "\n",
    "    # compute the cost\n",
    "    # prevent resource exhaustion\n",
    "    if i<100000:\n",
    "      print(predict(X, w, b))\n",
    "      print(y.shape)\n",
    "      costs.append(compute_cost(X, y, w, b))\n",
    "\n",
    "    # print cost 10 times\n",
    "    if i % (num_iters//10) == 0:\n",
    "      print(f'Cost at iteration {i}: {costs[-1]}')\n",
    "\n",
    "  return w, b, costs"
   ]
  },
  {
   "cell_type": "code",
   "execution_count": 44,
   "metadata": {},
   "outputs": [
    {
     "name": "stdout",
     "output_type": "stream",
     "text": [
      "[[0.]\n",
      " [0.]\n",
      " [0.]\n",
      " ...\n",
      " [0.]\n",
      " [0.]\n",
      " [0.]]\n",
      "(8339, 1)\n",
      "[[-0.02072917]\n",
      " [ 0.07054597]\n",
      " [ 0.0149114 ]\n",
      " ...\n",
      " [ 0.04488362]\n",
      " [-0.01911897]\n",
      " [-0.04050215]]\n",
      "(8339, 1)\n"
     ]
    },
    {
     "ename": "ValueError",
     "evalue": "operands could not be broadcast together with shapes (58373,1) (8339,1) ",
     "output_type": "error",
     "traceback": [
      "\u001b[1;31m---------------------------------------------------------------------------\u001b[0m",
      "\u001b[1;31mValueError\u001b[0m                                Traceback (most recent call last)",
      "Cell \u001b[1;32mIn[44], line 10\u001b[0m\n\u001b[0;32m      7\u001b[0m num_iters \u001b[39m=\u001b[39m \u001b[39m1000\u001b[39m\n\u001b[0;32m      9\u001b[0m \u001b[39m# run gradient descent\u001b[39;00m\n\u001b[1;32m---> 10\u001b[0m w_final, b_final, J_hist \u001b[39m=\u001b[39m gradient_descent(X_train, y_train, initial_w, initial_b, alpha, num_iters)\n",
      "Cell \u001b[1;32mIn[40], line 33\u001b[0m, in \u001b[0;36mgradient_descent\u001b[1;34m(X, y, w, b, alpha, num_iters)\u001b[0m\n\u001b[0;32m     31\u001b[0m   \u001b[39mprint\u001b[39m(predict(X, w, b))\n\u001b[0;32m     32\u001b[0m   \u001b[39mprint\u001b[39m(y\u001b[39m.\u001b[39mshape)\n\u001b[1;32m---> 33\u001b[0m   costs\u001b[39m.\u001b[39mappend(compute_cost(X, y, w, b))\n\u001b[0;32m     35\u001b[0m \u001b[39m# print cost 10 times\u001b[39;00m\n\u001b[0;32m     36\u001b[0m \u001b[39mif\u001b[39;00m i \u001b[39m%\u001b[39m (num_iters\u001b[39m/\u001b[39m\u001b[39m/\u001b[39m\u001b[39m10\u001b[39m) \u001b[39m==\u001b[39m \u001b[39m0\u001b[39m:\n",
      "Cell \u001b[1;32mIn[11], line 17\u001b[0m, in \u001b[0;36mcompute_cost\u001b[1;34m(X, y, w, b)\u001b[0m\n\u001b[0;32m     15\u001b[0m m,_ \u001b[39m=\u001b[39m X\u001b[39m.\u001b[39mshape\n\u001b[0;32m     16\u001b[0m pred \u001b[39m=\u001b[39m predict(X, w, b)\n\u001b[1;32m---> 17\u001b[0m cost \u001b[39m=\u001b[39m ((pred \u001b[39m-\u001b[39;49m y)\u001b[39m*\u001b[39m\u001b[39m*\u001b[39m\u001b[39m2\u001b[39m)\u001b[39m.\u001b[39msum()\n\u001b[0;32m     18\u001b[0m cost \u001b[39m=\u001b[39m cost \u001b[39m/\u001b[39m (\u001b[39m2\u001b[39m \u001b[39m*\u001b[39m m)\n\u001b[0;32m     20\u001b[0m \u001b[39mreturn\u001b[39;00m cost\n",
      "\u001b[1;31mValueError\u001b[0m: operands could not be broadcast together with shapes (58373,1) (8339,1) "
     ]
    }
   ],
   "source": [
    "# initialize parameters\n",
    "initial_w = np.zeros_like(w_init)\n",
    "initial_b = 0.0\n",
    "\n",
    "# initialize hyperparameters\n",
    "alpha = 5.0e-7\n",
    "num_iters = 1000\n",
    "\n",
    "# run gradient descent\n",
    "w_final, b_final, J_hist = gradient_descent(X_train, y_train, initial_w, initial_b, alpha, num_iters)"
   ]
  },
  {
   "cell_type": "code",
   "execution_count": 26,
   "metadata": {},
   "outputs": [
    {
     "name": "stdout",
     "output_type": "stream",
     "text": [
      "w, b found by gradient descent: [ 0.20396569  0.00374919 -0.0112487  -0.0658614 ], -0.00\n",
      "prediction: 426.19, target value: 460\n",
      "prediction: 286.17, target value: 232\n",
      "prediction: 171.47, target value: 178\n"
     ]
    }
   ],
   "source": [
    "print(f'w, b found by gradient descent: {w_final}, {b_final:0.2f}')\n",
    "\n",
    "m,_ = X_train.shape\n",
    "for i in range(m):\n",
    "    print(\n",
    "        f'prediction: {predict(X_train, w_final, b_final)[i]:0.2f}, target value: {y_train[i]}')\n"
   ]
  },
  {
   "cell_type": "code",
   "execution_count": 27,
   "metadata": {},
   "outputs": [
    {
     "data": {
      "image/png": "[encoded data removed]",
      "text/plain": [
       "<Figure size 1200x400 with 2 Axes>"
      ]
     },
     "metadata": {},
     "output_type": "display_data"
    }
   ],
   "source": [
    "# plot cost versus iteration\n",
    "fig, (ax1, ax2) = plt.subplots(1, 2, constrained_layout=True, figsize=(12, 4))\n",
    "\n",
    "ax1.plot(J_hist)\n",
    "ax2.plot(100 + np.arange(len(J_hist[100:])), J_hist[100:])\n",
    "\n",
    "ax1.set_xlabel('Iteration')         ; ax2.set_xlabel('Iteration')\n",
    "ax1.set_ylabel('Cost')              ; ax2.set_ylabel('Cost')\n",
    "ax1.set_title('Cost vs. Iteration') ; ax2.set_title('Cost vs. Iteration (tail)')\n",
    "\n",
    "plt.show()"
   ]
  }
 ],
 "metadata": {
  "kernelspec": {
   "display_name": "Python 3.9.15 ('machine-learning')",
   "language": "python",
   "name": "python3"
  },
  "language_info": {
   "codemirror_mode": {
    "name": "ipython",
    "version": 3
   },
   "file_extension": ".py",
   "mimetype": "text/x-python",
   "name": "python",
   "nbconvert_exporter": "python",
   "pygments_lexer": "ipython3",
   "version": "3.9.15"
  },
  "orig_nbformat": 4,
  "vscode": {
   "interpreter": {
    "hash": "e969ff76d6b9e8113bfdb1171256ab902600575d174c7cffbcfee84440272c3b"
   }
  }
 },
 "nbformat": 4,
 "nbformat_minor": 2
}
